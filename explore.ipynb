{
 "cells": [
  {
   "cell_type": "code",
   "execution_count": 1,
   "metadata": {},
   "outputs": [],
   "source": [
    "from typing import Dict, Tuple\n",
    "from tqdm import tqdm\n",
    "import torch\n",
    "from torch.utils.data import DataLoader\n",
    "from torchvision import models, transforms\n",
    "from torchvision.datasets import MNIST\n",
    "from torchvision.utils import save_image, make_grid\n",
    "import matplotlib.pyplot as plt\n",
    "import numpy as np\n",
    "\n",
    "\n",
    "from network import DDPM, ContextUnet, ContextUnetColored, Classifier\n",
    "from dataset import add_hue_confounded"
   ]
  },
  {
   "cell_type": "code",
   "execution_count": 31,
   "metadata": {},
   "outputs": [
    {
     "data": {
      "text/plain": [
       "DDPM(\n",
       "  (nn_model): ContextUnetColored(\n",
       "    (init_conv): ResidualConvBlock(\n",
       "      (conv1): Sequential(\n",
       "        (0): Conv2d(3, 256, kernel_size=(3, 3), stride=(1, 1), padding=(1, 1))\n",
       "        (1): BatchNorm2d(256, eps=1e-05, momentum=0.1, affine=True, track_running_stats=True)\n",
       "        (2): GELU(approximate='none')\n",
       "      )\n",
       "      (conv2): Sequential(\n",
       "        (0): Conv2d(256, 256, kernel_size=(3, 3), stride=(1, 1), padding=(1, 1))\n",
       "        (1): BatchNorm2d(256, eps=1e-05, momentum=0.1, affine=True, track_running_stats=True)\n",
       "        (2): GELU(approximate='none')\n",
       "      )\n",
       "    )\n",
       "    (down1): UnetDown(\n",
       "      (model): Sequential(\n",
       "        (0): ResidualConvBlock(\n",
       "          (conv1): Sequential(\n",
       "            (0): Conv2d(256, 256, kernel_size=(3, 3), stride=(1, 1), padding=(1, 1))\n",
       "            (1): BatchNorm2d(256, eps=1e-05, momentum=0.1, affine=True, track_running_stats=True)\n",
       "            (2): GELU(approximate='none')\n",
       "          )\n",
       "          (conv2): Sequential(\n",
       "            (0): Conv2d(256, 256, kernel_size=(3, 3), stride=(1, 1), padding=(1, 1))\n",
       "            (1): BatchNorm2d(256, eps=1e-05, momentum=0.1, affine=True, track_running_stats=True)\n",
       "            (2): GELU(approximate='none')\n",
       "          )\n",
       "        )\n",
       "        (1): MaxPool2d(kernel_size=2, stride=2, padding=0, dilation=1, ceil_mode=False)\n",
       "      )\n",
       "    )\n",
       "    (down2): UnetDown(\n",
       "      (model): Sequential(\n",
       "        (0): ResidualConvBlock(\n",
       "          (conv1): Sequential(\n",
       "            (0): Conv2d(256, 512, kernel_size=(3, 3), stride=(1, 1), padding=(1, 1))\n",
       "            (1): BatchNorm2d(512, eps=1e-05, momentum=0.1, affine=True, track_running_stats=True)\n",
       "            (2): GELU(approximate='none')\n",
       "          )\n",
       "          (conv2): Sequential(\n",
       "            (0): Conv2d(512, 512, kernel_size=(3, 3), stride=(1, 1), padding=(1, 1))\n",
       "            (1): BatchNorm2d(512, eps=1e-05, momentum=0.1, affine=True, track_running_stats=True)\n",
       "            (2): GELU(approximate='none')\n",
       "          )\n",
       "        )\n",
       "        (1): MaxPool2d(kernel_size=2, stride=2, padding=0, dilation=1, ceil_mode=False)\n",
       "      )\n",
       "    )\n",
       "    (to_vec): Sequential(\n",
       "      (0): AvgPool2d(kernel_size=7, stride=7, padding=0)\n",
       "      (1): GELU(approximate='none')\n",
       "    )\n",
       "    (timeembed1): EmbedFC(\n",
       "      (model): Sequential(\n",
       "        (0): Linear(in_features=1, out_features=512, bias=True)\n",
       "        (1): GELU(approximate='none')\n",
       "        (2): Linear(in_features=512, out_features=512, bias=True)\n",
       "      )\n",
       "    )\n",
       "    (timeembed2): EmbedFC(\n",
       "      (model): Sequential(\n",
       "        (0): Linear(in_features=1, out_features=256, bias=True)\n",
       "        (1): GELU(approximate='none')\n",
       "        (2): Linear(in_features=256, out_features=256, bias=True)\n",
       "      )\n",
       "    )\n",
       "    (contextembed1): EmbedFC(\n",
       "      (model): Sequential(\n",
       "        (0): Linear(in_features=10, out_features=512, bias=True)\n",
       "        (1): GELU(approximate='none')\n",
       "        (2): Linear(in_features=512, out_features=512, bias=True)\n",
       "      )\n",
       "    )\n",
       "    (contextembed2): EmbedFC(\n",
       "      (model): Sequential(\n",
       "        (0): Linear(in_features=10, out_features=256, bias=True)\n",
       "        (1): GELU(approximate='none')\n",
       "        (2): Linear(in_features=256, out_features=256, bias=True)\n",
       "      )\n",
       "    )\n",
       "    (up0): Sequential(\n",
       "      (0): ConvTranspose2d(512, 512, kernel_size=(7, 7), stride=(7, 7))\n",
       "      (1): GroupNorm(8, 512, eps=1e-05, affine=True)\n",
       "      (2): ReLU()\n",
       "    )\n",
       "    (up1): UnetUp(\n",
       "      (model): Sequential(\n",
       "        (0): ConvTranspose2d(1024, 256, kernel_size=(2, 2), stride=(2, 2))\n",
       "        (1): ResidualConvBlock(\n",
       "          (conv1): Sequential(\n",
       "            (0): Conv2d(256, 256, kernel_size=(3, 3), stride=(1, 1), padding=(1, 1))\n",
       "            (1): BatchNorm2d(256, eps=1e-05, momentum=0.1, affine=True, track_running_stats=True)\n",
       "            (2): GELU(approximate='none')\n",
       "          )\n",
       "          (conv2): Sequential(\n",
       "            (0): Conv2d(256, 256, kernel_size=(3, 3), stride=(1, 1), padding=(1, 1))\n",
       "            (1): BatchNorm2d(256, eps=1e-05, momentum=0.1, affine=True, track_running_stats=True)\n",
       "            (2): GELU(approximate='none')\n",
       "          )\n",
       "        )\n",
       "        (2): ResidualConvBlock(\n",
       "          (conv1): Sequential(\n",
       "            (0): Conv2d(256, 256, kernel_size=(3, 3), stride=(1, 1), padding=(1, 1))\n",
       "            (1): BatchNorm2d(256, eps=1e-05, momentum=0.1, affine=True, track_running_stats=True)\n",
       "            (2): GELU(approximate='none')\n",
       "          )\n",
       "          (conv2): Sequential(\n",
       "            (0): Conv2d(256, 256, kernel_size=(3, 3), stride=(1, 1), padding=(1, 1))\n",
       "            (1): BatchNorm2d(256, eps=1e-05, momentum=0.1, affine=True, track_running_stats=True)\n",
       "            (2): GELU(approximate='none')\n",
       "          )\n",
       "        )\n",
       "      )\n",
       "    )\n",
       "    (up2): UnetUp(\n",
       "      (model): Sequential(\n",
       "        (0): ConvTranspose2d(512, 256, kernel_size=(2, 2), stride=(2, 2))\n",
       "        (1): ResidualConvBlock(\n",
       "          (conv1): Sequential(\n",
       "            (0): Conv2d(256, 256, kernel_size=(3, 3), stride=(1, 1), padding=(1, 1))\n",
       "            (1): BatchNorm2d(256, eps=1e-05, momentum=0.1, affine=True, track_running_stats=True)\n",
       "            (2): GELU(approximate='none')\n",
       "          )\n",
       "          (conv2): Sequential(\n",
       "            (0): Conv2d(256, 256, kernel_size=(3, 3), stride=(1, 1), padding=(1, 1))\n",
       "            (1): BatchNorm2d(256, eps=1e-05, momentum=0.1, affine=True, track_running_stats=True)\n",
       "            (2): GELU(approximate='none')\n",
       "          )\n",
       "        )\n",
       "        (2): ResidualConvBlock(\n",
       "          (conv1): Sequential(\n",
       "            (0): Conv2d(256, 256, kernel_size=(3, 3), stride=(1, 1), padding=(1, 1))\n",
       "            (1): BatchNorm2d(256, eps=1e-05, momentum=0.1, affine=True, track_running_stats=True)\n",
       "            (2): GELU(approximate='none')\n",
       "          )\n",
       "          (conv2): Sequential(\n",
       "            (0): Conv2d(256, 256, kernel_size=(3, 3), stride=(1, 1), padding=(1, 1))\n",
       "            (1): BatchNorm2d(256, eps=1e-05, momentum=0.1, affine=True, track_running_stats=True)\n",
       "            (2): GELU(approximate='none')\n",
       "          )\n",
       "        )\n",
       "      )\n",
       "    )\n",
       "    (out): Sequential(\n",
       "      (0): Conv2d(512, 256, kernel_size=(3, 3), stride=(1, 1), padding=(1, 1))\n",
       "      (1): GroupNorm(8, 256, eps=1e-05, affine=True)\n",
       "      (2): ReLU()\n",
       "      (3): Conv2d(256, 3, kernel_size=(3, 3), stride=(1, 1), padding=(1, 1))\n",
       "    )\n",
       "    (hueembed1): EmbedFC(\n",
       "      (model): Sequential(\n",
       "        (0): Linear(in_features=1, out_features=512, bias=True)\n",
       "        (1): GELU(approximate='none')\n",
       "        (2): Linear(in_features=512, out_features=512, bias=True)\n",
       "      )\n",
       "    )\n",
       "    (hueembed2): EmbedFC(\n",
       "      (model): Sequential(\n",
       "        (0): Linear(in_features=1, out_features=256, bias=True)\n",
       "        (1): GELU(approximate='none')\n",
       "        (2): Linear(in_features=256, out_features=256, bias=True)\n",
       "      )\n",
       "    )\n",
       "    (mixembed1): EmbedFC(\n",
       "      (model): Sequential(\n",
       "        (0): Linear(in_features=1024, out_features=512, bias=True)\n",
       "        (1): GELU(approximate='none')\n",
       "        (2): Linear(in_features=512, out_features=512, bias=True)\n",
       "      )\n",
       "    )\n",
       "    (mixembed2): EmbedFC(\n",
       "      (model): Sequential(\n",
       "        (0): Linear(in_features=512, out_features=256, bias=True)\n",
       "        (1): GELU(approximate='none')\n",
       "        (2): Linear(in_features=256, out_features=256, bias=True)\n",
       "      )\n",
       "    )\n",
       "  )\n",
       "  (loss_mse): MSELoss()\n",
       ")"
      ]
     },
     "execution_count": 31,
     "metadata": {},
     "output_type": "execute_result"
    }
   ],
   "source": [
    "n_T = 400 # 500\n",
    "device = \"cuda\" if torch.cuda.is_available() else \"cpu\"\n",
    "batch_size = 1\n",
    "n_classes = 10\n",
    "n_feat = 256 # 128 ok, 256 better (but slower)\n",
    "save_model = False\n",
    "cond_mode = \"AdaGN\"\n",
    "# save_dir = './data/diffusion_outputs10/'\n",
    "ws_test = [0.0, 0.5, 2.0] # strength of generative guidance\n",
    "\n",
    "ddpm = DDPM(nn_model=ContextUnetColored(in_channels=3, n_feat=n_feat, n_classes=n_classes, cond_mode=cond_mode), betas=(1e-4, 0.02), n_T=n_T, device=device, drop_prob=0.1, color=True)\n",
    "ddpm.to(device)\n",
    "\n",
    "# ddpm.load_state_dict(torch.load(\"./experiments/240512_4/model/model_29.pth\", map_location=device))\n",
    "ddpm.load_state_dict(torch.load(\"./diff_to_download/240504_3_model_29.pth\", map_location=device))\n",
    "\n",
    "tf = transforms.Compose([transforms.ToTensor()]) # mnist is already normalised 0 to 1\n",
    "\n",
    "dataset = MNIST(\"./data\", train=True, download=True, transform=tf)\n",
    "dataloader = DataLoader(dataset, batch_size=batch_size, shuffle=True, num_workers=5)\n",
    "\n",
    "testset = MNIST(\"./data\", train=False, download=True, transform=tf)\n",
    "testloader = DataLoader(testset, batch_size=batch_size, shuffle=True, num_workers=5)\n",
    "ddpm.eval()\n"
   ]
  },
  {
   "cell_type": "code",
   "execution_count": 32,
   "metadata": {},
   "outputs": [
    {
     "name": "stdout",
     "output_type": "stream",
     "text": [
      "\n",
      "sampling timestep 100\r"
     ]
    }
   ],
   "source": [
    "results = ddpm.sample(10, (3,28,28),device,2)\n",
    "results = results[0]"
   ]
  },
  {
   "cell_type": "code",
   "execution_count": 33,
   "metadata": {},
   "outputs": [
    {
     "name": "stderr",
     "output_type": "stream",
     "text": [
      "Clipping input data to the valid range for imshow with RGB data ([0..1] for floats or [0..255] for integers).\n"
     ]
    },
    {
     "data": {
      "text/plain": [
       "<matplotlib.image.AxesImage at 0x7fa20d2ba830>"
      ]
     },
     "execution_count": 33,
     "metadata": {},
     "output_type": "execute_result"
    },
    {
     "data": {
      "image/png": "[encoded data removed]",
      "text/plain": [
       "<Figure size 640x480 with 1 Axes>"
      ]
     },
     "metadata": {},
     "output_type": "display_data"
    }
   ],
   "source": [
    "plt.imshow((-1 * results[0].detach().cpu() + 1).permute(1,2,0))"
   ]
  },
  {
   "cell_type": "code",
   "execution_count": 7,
   "metadata": {},
   "outputs": [],
   "source": [
    "x, y, hues = torch.load(\"./classifiedMNIST/real_data/batch_0.pth\", map_location=device)\n",
    "y_hats, logits = torch.load(\"./classifiedMNIST/predicted_label/batch_0.pth\", map_location=device)"
   ]
  },
  {
   "cell_type": "code",
   "execution_count": 9,
   "metadata": {},
   "outputs": [
    {
     "data": {
      "text/plain": [
       "<All keys matched successfully>"
      ]
     },
     "execution_count": 9,
     "metadata": {},
     "output_type": "execute_result"
    }
   ],
   "source": [
    "# get one sample that is classified wrong and one correct\n",
    "p_unif = 0\n",
    "classifier = Classifier().to(device)\n",
    "classifier.load_state_dict(torch.load(f\"./trained_classifiers/model{p_unif}_10.pt\", map_location=device))"
   ]
  },
  {
   "cell_type": "code",
   "execution_count": 30,
   "metadata": {},
   "outputs": [],
   "source": [
    "x_sample_wrong = x[0]\n",
    "y_true_sample_wrong = y[0].view(-1,)\n",
    "y_sample_wrong = y_hats[f'{p_unif}'][0]\n",
    "x_sample_correct = x[1]\n",
    "y_true_sample_correct = y[1].view(-1,)\n",
    "y_sample_correct = y_hats[f'{p_unif}'][1]"
   ]
  },
  {
   "cell_type": "code",
   "execution_count": 46,
   "metadata": {},
   "outputs": [
    {
     "data": {
      "text/plain": [
       "<matplotlib.image.AxesImage at 0x7f3402e18730>"
      ]
     },
     "execution_count": 46,
     "metadata": {},
     "output_type": "execute_result"
    },
    {
     "data": {
      "image/png": "[encoded data removed]",
      "text/plain": [
       "<Figure size 640x480 with 1 Axes>"
      ]
     },
     "metadata": {},
     "output_type": "display_data"
    }
   ],
   "source": [
    "plt.imshow((-1*x_sample_wrong.permute(1,2,0)+1).detach().cpu())"
   ]
  },
  {
   "cell_type": "code",
   "execution_count": 86,
   "metadata": {},
   "outputs": [
    {
     "name": "stdout",
     "output_type": "stream",
     "text": [
      "\n",
      "reconstructing timestep 180\r"
     ]
    },
    {
     "name": "stderr",
     "output_type": "stream",
     "text": [
      "Clipping input data to the valid range for imshow with RGB data ([0..1] for floats or [0..255] for integers).\n"
     ]
    },
    {
     "name": "stdout",
     "output_type": "stream",
     "text": [
      "reconstructing timestep 10\r"
     ]
    },
    {
     "data": {
      "text/plain": [
       "<matplotlib.image.AxesImage at 0x7f33d84a7160>"
      ]
     },
     "execution_count": 86,
     "metadata": {},
     "output_type": "execute_result"
    },
    {
     "data": {
      "image/png": "[encoded data removed]",
      "text/plain": [
       "<Figure size 640x480 with 1 Axes>"
      ]
     },
     "metadata": {},
     "output_type": "display_data"
    }
   ],
   "source": [
    "# hue uncond cf from 8 to 5 (y_true is 5)\n",
    "true_hues = hues[0]\n",
    "# true_hues = torch.tensor([true_hues]).to(device)\n",
    "u = ddpm.abduct(x_sample_wrong.view(1,3,28,28), \\\n",
    "                y_sample_wrong,\\\n",
    "                size=(3,28,28), device=device, guide_w=2, hues=true_hues, hue_uncond=1)\n",
    "x_cf_wrong_uncond = ddpm.reconstruct(u, y_true_sample_wrong.view(-1,), size=(3,28,28), device=device, guide_w=2, hues=true_hues, hue_uncond=1)\n",
    "plt.imshow((-1*x_cf_wrong_uncond[0]+1).permute(1,2,0).detach().cpu())"
   ]
  },
  {
   "cell_type": "code",
   "execution_count": 5,
   "metadata": {},
   "outputs": [
    {
     "ename": "NameError",
     "evalue": "name 'hues' is not defined",
     "output_type": "error",
     "traceback": [
      "\u001b[0;31m---------------------------------------------------------------------------\u001b[0m",
      "\u001b[0;31mNameError\u001b[0m                                 Traceback (most recent call last)",
      "Cell \u001b[0;32mIn[5], line 2\u001b[0m\n\u001b[1;32m      1\u001b[0m \u001b[38;5;66;03m# hue cond cf from 5 to 8 (y_true is 8)\u001b[39;00m\n\u001b[0;32m----> 2\u001b[0m true_hues \u001b[38;5;241m=\u001b[39m \u001b[43mhues\u001b[49m[\u001b[38;5;241m0\u001b[39m]\n\u001b[1;32m      3\u001b[0m \u001b[38;5;66;03m# true_hues = torch.tensor([true_hues]).to(device)\u001b[39;00m\n\u001b[1;32m      4\u001b[0m u \u001b[38;5;241m=\u001b[39m ddpm\u001b[38;5;241m.\u001b[39mabduct(x_sample_wrong\u001b[38;5;241m.\u001b[39mview(\u001b[38;5;241m1\u001b[39m,\u001b[38;5;241m3\u001b[39m,\u001b[38;5;241m28\u001b[39m,\u001b[38;5;241m28\u001b[39m), \\\n\u001b[1;32m      5\u001b[0m                 y_sample_wrong,\\\n\u001b[1;32m      6\u001b[0m                 size\u001b[38;5;241m=\u001b[39m(\u001b[38;5;241m3\u001b[39m,\u001b[38;5;241m28\u001b[39m,\u001b[38;5;241m28\u001b[39m), device\u001b[38;5;241m=\u001b[39mdevice, guide_w\u001b[38;5;241m=\u001b[39m\u001b[38;5;241m2\u001b[39m, hues\u001b[38;5;241m=\u001b[39mtrue_hues, hue_uncond\u001b[38;5;241m=\u001b[39m\u001b[38;5;241m0\u001b[39m)\n",
      "\u001b[0;31mNameError\u001b[0m: name 'hues' is not defined"
     ]
    }
   ],
   "source": [
    "# hue cond cf from 5 to 8 (y_true is 8)\n",
    "true_hues = hues[0]\n",
    "# true_hues = torch.tensor([true_hues]).to(device)\n",
    "u = ddpm.abduct(x_sample_wrong.view(1,3,28,28), \\\n",
    "                y_sample_wrong,\\\n",
    "                size=(3,28,28), device=device, guide_w=2, hues=true_hues, hue_uncond=0)\n",
    "x_cf_wrong_cond = ddpm.reconstruct(u, y_true_sample_wrong.view(-1,), size=(3,28,28), device=device, guide_w=2, hues=true_hues, hue_uncond=0)\n",
    "plt.imshow((-1*x_cf_wrong_cond[0]+1).permute(1,2,0).detach().cpu())"
   ]
  },
  {
   "cell_type": "code",
   "execution_count": 68,
   "metadata": {},
   "outputs": [
    {
     "name": "stdout",
     "output_type": "stream",
     "text": [
      "tensor([[0.0115, 0.0120, 0.0086, 0.5079, 0.0047, 0.3734, 0.0170, 0.0182, 0.0367,\n",
      "         0.0100]], device='cuda:0', grad_fn=<ExpBackward0>)\n",
      "tensor([3], device='cuda:0')\n",
      "tensor([0.0364, 0.0071, 0.0071, 0.0940, 0.0105, 0.1984, 0.0375, 0.0785, 0.3190,\n",
      "        0.2115], device='cuda:0', grad_fn=<ExpBackward0>)\n"
     ]
    }
   ],
   "source": [
    "y_cf_uncond = classifier(x_cf_wrong_uncond)\n",
    "print(torch.exp(y_cf_uncond))\n",
    "print(torch.argmax(y_cf_uncond,dim=1))\n",
    "print(torch.exp(logits[f'{p_unif}'][0]))"
   ]
  },
  {
   "cell_type": "code",
   "execution_count": 71,
   "metadata": {},
   "outputs": [
    {
     "name": "stdout",
     "output_type": "stream",
     "text": [
      "tensor([[0.0322, 0.0111, 0.0103, 0.1533, 0.0185, 0.3477, 0.0336, 0.0988, 0.1493,\n",
      "         0.1453]], device='cuda:0', grad_fn=<ExpBackward0>)\n",
      "tensor([5], device='cuda:0')\n"
     ]
    }
   ],
   "source": [
    "y_cf_cond = classifier(x_cf_wrong_cond)\n",
    "print(torch.exp(y_cf_cond))\n",
    "print(torch.argmax(y_cf_cond,dim=1))\n"
   ]
  },
  {
   "cell_type": "code",
   "execution_count": 84,
   "metadata": {},
   "outputs": [
    {
     "name": "stdout",
     "output_type": "stream",
     "text": [
      "reconstructing timestep 150\r"
     ]
    },
    {
     "name": "stderr",
     "output_type": "stream",
     "text": [
      "Clipping input data to the valid range for imshow with RGB data ([0..1] for floats or [0..255] for integers).\n"
     ]
    },
    {
     "name": "stdout",
     "output_type": "stream",
     "text": [
      "reconstructing timestep 10\r"
     ]
    },
    {
     "data": {
      "text/plain": [
       "<matplotlib.image.AxesImage at 0x7f33d84688b0>"
      ]
     },
     "execution_count": 84,
     "metadata": {},
     "output_type": "execute_result"
    },
    {
     "data": {
      "image/png": "[encoded data removed]",
      "text/plain": [
       "<Figure size 640x480 with 1 Axes>"
      ]
     },
     "metadata": {},
     "output_type": "display_data"
    }
   ],
   "source": [
    "# now from 8 to 0 (groundtruth 5)\n",
    "x_cf_wrong_cond_to0 = ddpm.reconstruct(u, torch.tensor([2],device=device).view(-1,), size=(3,28,28), device=device, guide_w=2, hues=true_hues, hue_uncond=0)\n",
    "plt.imshow((-1*x_cf_wrong_cond_to0[0]+1).permute(1,2,0).detach().cpu())"
   ]
  },
  {
   "cell_type": "code",
   "execution_count": 85,
   "metadata": {},
   "outputs": [
    {
     "name": "stdout",
     "output_type": "stream",
     "text": [
      "tensor([[0.0513, 0.0195, 0.0223, 0.1215, 0.0289, 0.1063, 0.0448, 0.2607, 0.2056,\n",
      "         0.1391]], device='cuda:0', grad_fn=<ExpBackward0>)\n",
      "tensor([7], device='cuda:0')\n"
     ]
    }
   ],
   "source": [
    "y_cf_cond_to0 = classifier(x_cf_wrong_cond_to0)\n",
    "print(torch.exp(y_cf_cond_to0))\n",
    "print(torch.argmax(y_cf_cond_to0,dim=1))"
   ]
  },
  {
   "cell_type": "code",
   "execution_count": 91,
   "metadata": {},
   "outputs": [
    {
     "name": "stdout",
     "output_type": "stream",
     "text": [
      "reconstructing timestep 150\r"
     ]
    },
    {
     "name": "stderr",
     "output_type": "stream",
     "text": [
      "Clipping input data to the valid range for imshow with RGB data ([0..1] for floats or [0..255] for integers).\n"
     ]
    },
    {
     "name": "stdout",
     "output_type": "stream",
     "text": [
      "reconstructing timestep 10\r"
     ]
    },
    {
     "data": {
      "text/plain": [
       "<matplotlib.image.AxesImage at 0x7f33d82604c0>"
      ]
     },
     "execution_count": 91,
     "metadata": {},
     "output_type": "execute_result"
    },
    {
     "data": {
      "image/png": "[encoded data removed]",
      "text/plain": [
       "<Figure size 640x480 with 1 Axes>"
      ]
     },
     "metadata": {},
     "output_type": "display_data"
    }
   ],
   "source": [
    "# now from 8 to 0 (groundtruth 5); uncond\n",
    "x_cf_wrong_uncond_to0 = ddpm.reconstruct(u, torch.tensor([0],device=device).view(-1,), size=(3,28,28), device=device, guide_w=2, hues=true_hues, hue_uncond=1)\n",
    "plt.imshow((-1*x_cf_wrong_uncond_to0[0]+1).permute(1,2,0).detach().cpu())"
   ]
  },
  {
   "cell_type": "code",
   "execution_count": 92,
   "metadata": {},
   "outputs": [
    {
     "name": "stdout",
     "output_type": "stream",
     "text": [
      "tensor([[0.4824, 0.0069, 0.4301, 0.0076, 0.0029, 0.0018, 0.0032, 0.0060, 0.0038,\n",
      "         0.0554]], device='cuda:0', grad_fn=<ExpBackward0>)\n",
      "tensor([0], device='cuda:0')\n"
     ]
    }
   ],
   "source": [
    "y_cf_uncond_to0 = classifier(x_cf_wrong_uncond_to0)\n",
    "print(torch.exp(y_cf_uncond_to0))\n",
    "print(torch.argmax(y_cf_uncond_to0,dim=1))"
   ]
  },
  {
   "cell_type": "code",
   "execution_count": 24,
   "metadata": {},
   "outputs": [
    {
     "data": {
      "text/plain": [
       "<matplotlib.image.AxesImage at 0x7f3403173430>"
      ]
     },
     "execution_count": 24,
     "metadata": {},
     "output_type": "execute_result"
    },
    {
     "data": {
      "image/png": "[encoded data removed]",
      "text/plain": [
       "<Figure size 640x480 with 1 Axes>"
      ]
     },
     "metadata": {},
     "output_type": "display_data"
    }
   ],
   "source": [
    "plt.imshow((-1*x_sample_correct+1).permute(1,2,0).detach().cpu())"
   ]
  },
  {
   "cell_type": "code",
   "execution_count": 18,
   "metadata": {},
   "outputs": [
    {
     "data": {
      "text/plain": [
       "tensor([False,  True,  True,  True, False,  True,  True, False, False, False,\n",
       "        False, False,  True, False,  True,  True, False,  True,  True, False,\n",
       "         True,  True,  True,  True, False,  True, False,  True,  True, False,\n",
       "         True,  True,  True,  True,  True,  True,  True,  True, False, False,\n",
       "         True,  True, False,  True, False, False,  True, False,  True, False,\n",
       "         True,  True,  True,  True,  True,  True,  True, False,  True, False,\n",
       "         True,  True,  True, False,  True,  True, False, False, False, False,\n",
       "        False,  True, False, False, False,  True,  True, False, False, False,\n",
       "        False,  True, False,  True,  True,  True, False,  True,  True, False,\n",
       "         True, False,  True,  True, False,  True, False, False,  True, False,\n",
       "        False, False,  True, False, False,  True, False, False, False, False,\n",
       "         True, False,  True,  True, False,  True,  True,  True,  True, False,\n",
       "         True,  True,  True, False,  True,  True,  True, False,  True, False,\n",
       "         True, False, False, False, False, False, False,  True, False, False,\n",
       "         True, False, False,  True,  True, False, False, False, False, False,\n",
       "        False, False,  True,  True,  True, False,  True,  True,  True, False,\n",
       "         True,  True, False,  True,  True,  True,  True,  True, False,  True,\n",
       "         True,  True,  True, False,  True, False, False, False,  True, False,\n",
       "        False,  True,  True, False, False, False,  True,  True,  True,  True,\n",
       "         True,  True,  True, False,  True, False,  True,  True,  True,  True,\n",
       "        False,  True, False,  True, False,  True,  True,  True,  True, False,\n",
       "         True,  True, False,  True,  True, False, False,  True, False,  True,\n",
       "        False, False,  True, False, False,  True,  True,  True, False,  True,\n",
       "        False, False,  True,  True,  True, False, False, False, False,  True,\n",
       "        False, False,  True,  True,  True, False, False,  True,  True, False,\n",
       "         True, False,  True,  True,  True,  True], device='cuda:0')"
      ]
     },
     "execution_count": 18,
     "metadata": {},
     "output_type": "execute_result"
    }
   ],
   "source": [
    "y==y_hats['0']"
   ]
  },
  {
   "cell_type": "code",
   "execution_count": 34,
   "metadata": {},
   "outputs": [
    {
     "name": "stdout",
     "output_type": "stream",
     "text": [
      "\n"
     ]
    }
   ],
   "source": [
    "true_hues = 0.0\n",
    "true_hues = torch.tensor([true_hues+0.05]).to(device)\n",
    "u = ddpm.abduct(results[0], \\\n",
    "                torch.tensor([0], dtype=torch.int64).to(device),\\\n",
    "                size=(3,28,28), device=device, guide_w=2, hues=true_hues, hue_uncond=0)"
   ]
  },
  {
   "cell_type": "code",
   "execution_count": 19,
   "metadata": {},
   "outputs": [
    {
     "data": {
      "text/plain": [
       "(array([  1.,   0.,   0.,   0.,   1.,   0.,   1.,   0.,   0.,   3.,   0.,\n",
       "          0.,   0.,   2.,   2.,   0.,   1.,   1.,   0.,   1.,   2.,   2.,\n",
       "          2.,   1.,   4.,   1.,   1.,   3.,   7.,   6.,   3.,   5.,   9.,\n",
       "         11.,  10.,  16.,  13.,  20.,  17.,  16.,  22.,  26.,  32.,  37.,\n",
       "         38.,  53.,  47.,  44.,  54.,  52.,  66.,  67.,  58.,  76., 100.,\n",
       "         70.,  89., 101.,  96.,  82.,  76.,  91.,  71.,  79.,  75.,  72.,\n",
       "         60.,  56.,  54.,  60.,  49.,  33.,  23.,  26.,  21.,  22.,  20.,\n",
       "         12.,  16.,  13.,  13.,   4.,   2.,   8.,   3.,   4.,   3.,   1.,\n",
       "          1.,   0.,   1.,   1.,   1.,   5.,   1.,   1.,   0.,   0.,   1.,\n",
       "          1.]),\n",
       " array([-5.8067131 , -5.7057519 , -5.60479116, -5.50382996, -5.40286922,\n",
       "        -5.30190802, -5.20094728, -5.09998608, -4.99902534, -4.89806414,\n",
       "        -4.7971034 , -4.6961422 , -4.59518147, -4.49422026, -4.39325953,\n",
       "        -4.29229832, -4.19133759, -4.09037638, -3.98941565, -3.88845468,\n",
       "        -3.78749371, -3.68653274, -3.58557177, -3.4846108 , -3.38364983,\n",
       "        -3.28268862, -3.18172765, -3.08076668, -2.97980571, -2.87884474,\n",
       "        -2.77788377, -2.6769228 , -2.57596183, -2.47500086, -2.37403989,\n",
       "        -2.27307892, -2.17211795, -2.07115698, -1.97019601, -1.86923504,\n",
       "        -1.76827407, -1.6673131 , -1.56635213, -1.46539116, -1.36443019,\n",
       "        -1.26346922, -1.16250825, -1.06154728, -0.96058631, -0.85962534,\n",
       "        -0.75866437, -0.6577034 , -0.55674243, -0.45578146, -0.35482046,\n",
       "        -0.25385949, -0.15289852, -0.05193755,  0.04902343,  0.1499844 ,\n",
       "         0.25094539,  0.35190636,  0.45286733,  0.5538283 ,  0.65478927,\n",
       "         0.75575024,  0.85671121,  0.95767218,  1.05863321,  1.15959418,\n",
       "         1.26055515,  1.36151612,  1.46247709,  1.56343806,  1.66439903,\n",
       "         1.76536   ,  1.86632097,  1.96728194,  2.06824303,  2.169204  ,\n",
       "         2.27016497,  2.37112594,  2.47208691,  2.57304788,  2.67400885,\n",
       "         2.77496982,  2.87593079,  2.97689176,  3.07785273,  3.1788137 ,\n",
       "         3.27977467,  3.38073564,  3.48169661,  3.58265758,  3.68361855,\n",
       "         3.78457952,  3.88554049,  3.98650146,  4.08746243,  4.18842316,\n",
       "         4.28938437]),\n",
       " <BarContainer object of 100 artists>)"
      ]
     },
     "execution_count": 19,
     "metadata": {},
     "output_type": "execute_result"
    },
    {
     "data": {
      "image/png": "[encoded data removed]",
      "text/plain": [
       "<Figure size 640x480 with 1 Axes>"
      ]
     },
     "metadata": {},
     "output_type": "display_data"
    }
   ],
   "source": [
    "# plot histogram of u[0] pixel values\n",
    "plt.hist(u[0].detach().cpu().numpy().flatten(), bins=100)"
   ]
  },
  {
   "cell_type": "code",
   "execution_count": 7,
   "metadata": {},
   "outputs": [
    {
     "name": "stderr",
     "output_type": "stream",
     "text": [
      "Clipping input data to the valid range for imshow with RGB data ([0..1] for floats or [0..255] for integers).\n"
     ]
    },
    {
     "data": {
      "text/plain": [
       "<matplotlib.image.AxesImage at 0x7fa2293c76a0>"
      ]
     },
     "execution_count": 7,
     "metadata": {},
     "output_type": "execute_result"
    },
    {
     "data": {
      "image/png": "[encoded data removed]",
      "text/plain": [
       "<Figure size 640x480 with 1 Axes>"
      ]
     },
     "metadata": {},
     "output_type": "display_data"
    }
   ],
   "source": [
    "plt.imshow(u[0].permute(1,2,0).detach().cpu().numpy())"
   ]
  },
  {
   "cell_type": "code",
   "execution_count": 90,
   "metadata": {},
   "outputs": [],
   "source": [
    "u_random = torch.randn_like(u)"
   ]
  },
  {
   "cell_type": "code",
   "execution_count": 40,
   "metadata": {},
   "outputs": [
    {
     "name": "stderr",
     "output_type": "stream",
     "text": [
      "Clipping input data to the valid range for imshow with RGB data ([0..1] for floats or [0..255] for integers).\n"
     ]
    },
    {
     "data": {
      "text/plain": [
       "<matplotlib.image.AxesImage at 0x7fa20cfe4c70>"
      ]
     },
     "execution_count": 40,
     "metadata": {},
     "output_type": "execute_result"
    },
    {
     "data": {
      "image/png": "[encoded data removed]",
      "text/plain": [
       "<Figure size 640x480 with 1 Axes>"
      ]
     },
     "metadata": {},
     "output_type": "display_data"
    }
   ],
   "source": [
    "x_cf = ddpm.reconstruct(u, \\\n",
    "                        torch.tensor([0], dtype=torch.int64, device=device),\\\n",
    "                        size=(3,28,28), device=device, guide_w=2, \\\n",
    "                        hues=torch.tensor([0.55],device=device), hue_uncond=0)\n",
    "plt.imshow((-1*x_cf[0]+1).permute(1,2,0).detach().cpu().numpy())"
   ]
  },
  {
   "cell_type": "code",
   "execution_count": 58,
   "metadata": {},
   "outputs": [
    {
     "data": {
      "text/plain": [
       "Classifier(\n",
       "  (conv11): Conv2d(3, 16, kernel_size=(3, 3), stride=(1, 1))\n",
       "  (conv12): Conv2d(3, 16, kernel_size=(5, 5), stride=(1, 1))\n",
       "  (conv13): Conv2d(3, 16, kernel_size=(7, 7), stride=(1, 1))\n",
       "  (conv14): Conv2d(3, 16, kernel_size=(9, 9), stride=(1, 1))\n",
       "  (conv21): Conv2d(16, 32, kernel_size=(3, 3), stride=(1, 1))\n",
       "  (conv22): Conv2d(16, 32, kernel_size=(5, 5), stride=(1, 1))\n",
       "  (conv23): Conv2d(16, 32, kernel_size=(7, 7), stride=(1, 1))\n",
       "  (conv24): Conv2d(16, 32, kernel_size=(9, 9), stride=(1, 1))\n",
       "  (conv31): Conv2d(32, 64, kernel_size=(3, 3), stride=(1, 1))\n",
       "  (conv32): Conv2d(32, 64, kernel_size=(5, 5), stride=(1, 1))\n",
       "  (conv33): Conv2d(32, 64, kernel_size=(7, 7), stride=(1, 1))\n",
       "  (conv34): Conv2d(32, 64, kernel_size=(9, 9), stride=(1, 1))\n",
       "  (maxpool): MaxPool2d(kernel_size=2, stride=2, padding=0, dilation=1, ceil_mode=False)\n",
       "  (dropout1): Dropout(p=0.25, inplace=False)\n",
       "  (dropout2): Dropout(p=0.5, inplace=False)\n",
       "  (fc11): Linear(in_features=7744, out_features=256, bias=True)\n",
       "  (fc12): Linear(in_features=4096, out_features=256, bias=True)\n",
       "  (fc13): Linear(in_features=1600, out_features=256, bias=True)\n",
       "  (fc14): Linear(in_features=256, out_features=256, bias=True)\n",
       "  (fc21): Linear(in_features=256, out_features=128, bias=True)\n",
       "  (fc22): Linear(in_features=256, out_features=128, bias=True)\n",
       "  (fc23): Linear(in_features=256, out_features=128, bias=True)\n",
       "  (fc24): Linear(in_features=256, out_features=128, bias=True)\n",
       "  (fc33): Linear(in_features=512, out_features=10, bias=True)\n",
       ")"
      ]
     },
     "execution_count": 58,
     "metadata": {},
     "output_type": "execute_result"
    }
   ],
   "source": [
    "from network import Classifier\n",
    "classifier = Classifier().to(device)\n",
    "classifier.load_state_dict(torch.load('trained_classifiers/model0.05_10.pt', map_location=device))\n",
    "classifier.eval()"
   ]
  },
  {
   "cell_type": "code",
   "execution_count": 63,
   "metadata": {},
   "outputs": [
    {
     "name": "stdout",
     "output_type": "stream",
     "text": [
      "tensor([[-4.2543, -3.9515, -3.6870, -3.7627, -4.7838, -4.4832, -4.1890, -4.0020,\n",
      "         -0.1733, -3.7157]], device='cuda:0', grad_fn=<LogSoftmaxBackward0>)\n",
      "tensor([8], device='cuda:0')\n"
     ]
    }
   ],
   "source": [
    "logit_cf = classifier(x_cf)\n",
    "y_cf = torch.argmax(logit_cf, dim=1)\n",
    "print(logit_cf)\n",
    "print(y_cf)"
   ]
  },
  {
   "cell_type": "code",
   "execution_count": 17,
   "metadata": {},
   "outputs": [],
   "source": [
    "tmpdata=torch.load('./classifiedMNIST/model0.01_10/batch_0.pth')"
   ]
  },
  {
   "cell_type": "code",
   "execution_count": 20,
   "metadata": {},
   "outputs": [
    {
     "name": "stdout",
     "output_type": "stream",
     "text": [
      "torch.Size([128, 3, 28, 28])\n",
      "torch.Size([128])\n",
      "torch.Size([128])\n",
      "torch.Size([128, 10])\n",
      "torch.Size([128])\n"
     ]
    }
   ],
   "source": [
    "for i in tmpdata:\n",
    "    print(i.shape)"
   ]
  },
  {
   "cell_type": "code",
   "execution_count": null,
   "metadata": {},
   "outputs": [],
   "source": [
    "n_T = 400 # 500\n",
    "device = \"cuda:7\" if torch.cuda.is_available() else \"cpu\"\n",
    "batch_size = 1\n",
    "n_classes = 10\n",
    "n_feat = 256 # 128 ok, 256 better (but slower)\n",
    "save_model = False\n",
    "# save_dir = './data/diffusion_outputs10/'\n",
    "ws_test = [0.0, 0.5, 2.0] # strength of generative guidance\n",
    "\n",
    "ddpm_base = DDPM(nn_model=ContextUnet(in_channels=3, n_feat=n_feat, n_classes=n_classes), betas=(1e-4, 0.02), n_T=n_T, device=device, drop_prob=0.1)\n",
    "ddpm_base.to(device)\n",
    "\n",
    "# optionally load a model\n",
    "ddpm_base.load_state_dict(torch.load(\"./experiments/240503_3/model/model_10.pth\", map_location=device))\n",
    "\n",
    "ddpm_base.eval()"
   ]
  },
  {
   "cell_type": "code",
   "execution_count": null,
   "metadata": {},
   "outputs": [],
   "source": [
    "results = ddpm.sample(10, (3,28,28),device,1)\n",
    "results = results[0]\n",
    "plt.imshow((-1 * results[1].detach().cpu() + 1).permute(1,2,0))"
   ]
  },
  {
   "cell_type": "code",
   "execution_count": null,
   "metadata": {},
   "outputs": [],
   "source": [
    "\n",
    "u_base = ddpm_base.abduct(results[1], torch.tensor([1], dtype=torch.int64).to(device), size=(3,28,28), device=device, guide_w=1)"
   ]
  },
  {
   "cell_type": "code",
   "execution_count": null,
   "metadata": {},
   "outputs": [],
   "source": [
    "x_cf_base = ddpm_base.reconstruct(u, \\\n",
    "                        torch.tensor([5], dtype=torch.int64, device=device),\\\n",
    "                        size=(3,28,28), device=device, guide_w=1)\n",
    "plt.imshow((-1*x_cf_base[0]+1).permute(1,2,0).detach().cpu().numpy())"
   ]
  },
  {
   "cell_type": "code",
   "execution_count": null,
   "metadata": {},
   "outputs": [],
   "source": [
    "# use plt.imshow to show one sample\n",
    "image = results[0][0].clone().cpu().detach().numpy()\n",
    "image.shape"
   ]
  },
  {
   "cell_type": "code",
   "execution_count": null,
   "metadata": {},
   "outputs": [],
   "source": [
    "# image.shape is (1,28,28) grey scale. How to imshow it?\n",
    "plt.imshow(image[0], cmap='gray')"
   ]
  }
 ],
 "metadata": {
  "kernelspec": {
   "display_name": "diff",
   "language": "python",
   "name": "python3"
  },
  "language_info": {
   "codemirror_mode": {
    "name": "ipython",
    "version": 3
   },
   "file_extension": ".py",
   "mimetype": "text/x-python",
   "name": "python",
   "nbconvert_exporter": "python",
   "pygments_lexer": "ipython3",
   "version": "3.10.12"
  }
 },
 "nbformat": 4,
 "nbformat_minor": 2
}
