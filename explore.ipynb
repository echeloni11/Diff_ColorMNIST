{
 "cells": [
  {
   "cell_type": "code",
   "execution_count": 6,
   "metadata": {},
   "outputs": [],
   "source": [
    "from typing import Dict, Tuple\n",
    "from tqdm import tqdm\n",
    "import torch\n",
    "from torch.utils.data import DataLoader\n",
    "from torchvision import models, transforms\n",
    "from torchvision.datasets import MNIST\n",
    "from torchvision.utils import save_image, make_grid\n",
    "import matplotlib.pyplot as plt\n",
    "import numpy as np\n",
    "\n",
    "\n",
    "from network import DDPM, ContextUnet, ContextUnetColored, Classifier\n",
    "from dataset import add_hue_confounded"
   ]
  },
  {
   "cell_type": "code",
   "execution_count": 3,
   "metadata": {},
   "outputs": [
    {
     "data": {
      "text/plain": [
       "DDPM(\n",
       "  (nn_model): ContextUnetColored(\n",
       "    (init_conv): ResidualConvBlock(\n",
       "      (conv1): Sequential(\n",
       "        (0): Conv2d(3, 256, kernel_size=(3, 3), stride=(1, 1), padding=(1, 1))\n",
       "        (1): BatchNorm2d(256, eps=1e-05, momentum=0.1, affine=True, track_running_stats=True)\n",
       "        (2): GELU(approximate='none')\n",
       "      )\n",
       "      (conv2): Sequential(\n",
       "        (0): Conv2d(256, 256, kernel_size=(3, 3), stride=(1, 1), padding=(1, 1))\n",
       "        (1): BatchNorm2d(256, eps=1e-05, momentum=0.1, affine=True, track_running_stats=True)\n",
       "        (2): GELU(approximate='none')\n",
       "      )\n",
       "    )\n",
       "    (down1): UnetDown(\n",
       "      (model): Sequential(\n",
       "        (0): ResidualConvBlock(\n",
       "          (conv1): Sequential(\n",
       "            (0): Conv2d(256, 256, kernel_size=(3, 3), stride=(1, 1), padding=(1, 1))\n",
       "            (1): BatchNorm2d(256, eps=1e-05, momentum=0.1, affine=True, track_running_stats=True)\n",
       "            (2): GELU(approximate='none')\n",
       "          )\n",
       "          (conv2): Sequential(\n",
       "            (0): Conv2d(256, 256, kernel_size=(3, 3), stride=(1, 1), padding=(1, 1))\n",
       "            (1): BatchNorm2d(256, eps=1e-05, momentum=0.1, affine=True, track_running_stats=True)\n",
       "            (2): GELU(approximate='none')\n",
       "          )\n",
       "        )\n",
       "        (1): MaxPool2d(kernel_size=2, stride=2, padding=0, dilation=1, ceil_mode=False)\n",
       "      )\n",
       "    )\n",
       "    (down2): UnetDown(\n",
       "      (model): Sequential(\n",
       "        (0): ResidualConvBlock(\n",
       "          (conv1): Sequential(\n",
       "            (0): Conv2d(256, 512, kernel_size=(3, 3), stride=(1, 1), padding=(1, 1))\n",
       "            (1): BatchNorm2d(512, eps=1e-05, momentum=0.1, affine=True, track_running_stats=True)\n",
       "            (2): GELU(approximate='none')\n",
       "          )\n",
       "          (conv2): Sequential(\n",
       "            (0): Conv2d(512, 512, kernel_size=(3, 3), stride=(1, 1), padding=(1, 1))\n",
       "            (1): BatchNorm2d(512, eps=1e-05, momentum=0.1, affine=True, track_running_stats=True)\n",
       "            (2): GELU(approximate='none')\n",
       "          )\n",
       "        )\n",
       "        (1): MaxPool2d(kernel_size=2, stride=2, padding=0, dilation=1, ceil_mode=False)\n",
       "      )\n",
       "    )\n",
       "    (to_vec): Sequential(\n",
       "      (0): AvgPool2d(kernel_size=7, stride=7, padding=0)\n",
       "      (1): GELU(approximate='none')\n",
       "    )\n",
       "    (timeembed1): EmbedFC(\n",
       "      (model): Sequential(\n",
       "        (0): Linear(in_features=1, out_features=512, bias=True)\n",
       "        (1): GELU(approximate='none')\n",
       "        (2): Linear(in_features=512, out_features=512, bias=True)\n",
       "      )\n",
       "    )\n",
       "    (timeembed2): EmbedFC(\n",
       "      (model): Sequential(\n",
       "        (0): Linear(in_features=1, out_features=256, bias=True)\n",
       "        (1): GELU(approximate='none')\n",
       "        (2): Linear(in_features=256, out_features=256, bias=True)\n",
       "      )\n",
       "    )\n",
       "    (contextembed1): EmbedFC(\n",
       "      (model): Sequential(\n",
       "        (0): Linear(in_features=10, out_features=512, bias=True)\n",
       "        (1): GELU(approximate='none')\n",
       "        (2): Linear(in_features=512, out_features=512, bias=True)\n",
       "      )\n",
       "    )\n",
       "    (contextembed2): EmbedFC(\n",
       "      (model): Sequential(\n",
       "        (0): Linear(in_features=10, out_features=256, bias=True)\n",
       "        (1): GELU(approximate='none')\n",
       "        (2): Linear(in_features=256, out_features=256, bias=True)\n",
       "      )\n",
       "    )\n",
       "    (up0): Sequential(\n",
       "      (0): ConvTranspose2d(512, 512, kernel_size=(7, 7), stride=(7, 7))\n",
       "      (1): GroupNorm(8, 512, eps=1e-05, affine=True)\n",
       "      (2): ReLU()\n",
       "    )\n",
       "    (up1): UnetUp(\n",
       "      (model): Sequential(\n",
       "        (0): ConvTranspose2d(1024, 256, kernel_size=(2, 2), stride=(2, 2))\n",
       "        (1): ResidualConvBlock(\n",
       "          (conv1): Sequential(\n",
       "            (0): Conv2d(256, 256, kernel_size=(3, 3), stride=(1, 1), padding=(1, 1))\n",
       "            (1): BatchNorm2d(256, eps=1e-05, momentum=0.1, affine=True, track_running_stats=True)\n",
       "            (2): GELU(approximate='none')\n",
       "          )\n",
       "          (conv2): Sequential(\n",
       "            (0): Conv2d(256, 256, kernel_size=(3, 3), stride=(1, 1), padding=(1, 1))\n",
       "            (1): BatchNorm2d(256, eps=1e-05, momentum=0.1, affine=True, track_running_stats=True)\n",
       "            (2): GELU(approximate='none')\n",
       "          )\n",
       "        )\n",
       "        (2): ResidualConvBlock(\n",
       "          (conv1): Sequential(\n",
       "            (0): Conv2d(256, 256, kernel_size=(3, 3), stride=(1, 1), padding=(1, 1))\n",
       "            (1): BatchNorm2d(256, eps=1e-05, momentum=0.1, affine=True, track_running_stats=True)\n",
       "            (2): GELU(approximate='none')\n",
       "          )\n",
       "          (conv2): Sequential(\n",
       "            (0): Conv2d(256, 256, kernel_size=(3, 3), stride=(1, 1), padding=(1, 1))\n",
       "            (1): BatchNorm2d(256, eps=1e-05, momentum=0.1, affine=True, track_running_stats=True)\n",
       "            (2): GELU(approximate='none')\n",
       "          )\n",
       "        )\n",
       "      )\n",
       "    )\n",
       "    (up2): UnetUp(\n",
       "      (model): Sequential(\n",
       "        (0): ConvTranspose2d(512, 256, kernel_size=(2, 2), stride=(2, 2))\n",
       "        (1): ResidualConvBlock(\n",
       "          (conv1): Sequential(\n",
       "            (0): Conv2d(256, 256, kernel_size=(3, 3), stride=(1, 1), padding=(1, 1))\n",
       "            (1): BatchNorm2d(256, eps=1e-05, momentum=0.1, affine=True, track_running_stats=True)\n",
       "            (2): GELU(approximate='none')\n",
       "          )\n",
       "          (conv2): Sequential(\n",
       "            (0): Conv2d(256, 256, kernel_size=(3, 3), stride=(1, 1), padding=(1, 1))\n",
       "            (1): BatchNorm2d(256, eps=1e-05, momentum=0.1, affine=True, track_running_stats=True)\n",
       "            (2): GELU(approximate='none')\n",
       "          )\n",
       "        )\n",
       "        (2): ResidualConvBlock(\n",
       "          (conv1): Sequential(\n",
       "            (0): Conv2d(256, 256, kernel_size=(3, 3), stride=(1, 1), padding=(1, 1))\n",
       "            (1): BatchNorm2d(256, eps=1e-05, momentum=0.1, affine=True, track_running_stats=True)\n",
       "            (2): GELU(approximate='none')\n",
       "          )\n",
       "          (conv2): Sequential(\n",
       "            (0): Conv2d(256, 256, kernel_size=(3, 3), stride=(1, 1), padding=(1, 1))\n",
       "            (1): BatchNorm2d(256, eps=1e-05, momentum=0.1, affine=True, track_running_stats=True)\n",
       "            (2): GELU(approximate='none')\n",
       "          )\n",
       "        )\n",
       "      )\n",
       "    )\n",
       "    (out): Sequential(\n",
       "      (0): Conv2d(512, 256, kernel_size=(3, 3), stride=(1, 1), padding=(1, 1))\n",
       "      (1): GroupNorm(8, 256, eps=1e-05, affine=True)\n",
       "      (2): ReLU()\n",
       "      (3): Conv2d(256, 3, kernel_size=(3, 3), stride=(1, 1), padding=(1, 1))\n",
       "    )\n",
       "    (hueembed1): EmbedFC(\n",
       "      (model): Sequential(\n",
       "        (0): Linear(in_features=1, out_features=512, bias=True)\n",
       "        (1): GELU(approximate='none')\n",
       "        (2): Linear(in_features=512, out_features=512, bias=True)\n",
       "      )\n",
       "    )\n",
       "    (hueembed2): EmbedFC(\n",
       "      (model): Sequential(\n",
       "        (0): Linear(in_features=1, out_features=256, bias=True)\n",
       "        (1): GELU(approximate='none')\n",
       "        (2): Linear(in_features=256, out_features=256, bias=True)\n",
       "      )\n",
       "    )\n",
       "    (mixembed1): EmbedFC(\n",
       "      (model): Sequential(\n",
       "        (0): Linear(in_features=1024, out_features=512, bias=True)\n",
       "        (1): GELU(approximate='none')\n",
       "        (2): Linear(in_features=512, out_features=512, bias=True)\n",
       "      )\n",
       "    )\n",
       "    (mixembed2): EmbedFC(\n",
       "      (model): Sequential(\n",
       "        (0): Linear(in_features=512, out_features=256, bias=True)\n",
       "        (1): GELU(approximate='none')\n",
       "        (2): Linear(in_features=256, out_features=256, bias=True)\n",
       "      )\n",
       "    )\n",
       "  )\n",
       "  (loss_mse): MSELoss()\n",
       ")"
      ]
     },
     "execution_count": 3,
     "metadata": {},
     "output_type": "execute_result"
    }
   ],
   "source": [
    "n_T = 400 # 500\n",
    "device = \"cuda\" if torch.cuda.is_available() else \"cpu\"\n",
    "batch_size = 1\n",
    "n_classes = 10\n",
    "n_feat = 256 # 128 ok, 256 better (but slower)\n",
    "save_model = False\n",
    "cond_mode = \"AdaGN\"\n",
    "# save_dir = './data/diffusion_outputs10/'\n",
    "ws_test = [0.0, 0.5, 2.0] # strength of generative guidance\n",
    "\n",
    "ddpm = DDPM(nn_model=ContextUnetColored(in_channels=3, n_feat=n_feat, n_classes=n_classes, cond_mode=cond_mode), betas=(1e-4, 0.02), n_T=n_T, device=device, drop_prob=0.1, color=True)\n",
    "ddpm.to(device)\n",
    "\n",
    "# optionally load a model\n",
    "ddpm.load_state_dict(torch.load(\"./experiments/240508_32/model/model_29.pth\", map_location=device))\n",
    "\n",
    "tf = transforms.Compose([transforms.ToTensor()]) # mnist is already normalised 0 to 1\n",
    "\n",
    "dataset = MNIST(\"./data\", train=True, download=True, transform=tf)\n",
    "dataloader = DataLoader(dataset, batch_size=batch_size, shuffle=True, num_workers=5)\n",
    "\n",
    "testset = MNIST(\"./data\", train=False, download=True, transform=tf)\n",
    "testloader = DataLoader(testset, batch_size=batch_size, shuffle=True, num_workers=5)\n",
    "ddpm.eval()\n"
   ]
  },
  {
   "cell_type": "code",
   "execution_count": 4,
   "metadata": {},
   "outputs": [
    {
     "name": "stdout",
     "output_type": "stream",
     "text": [
      "\n",
      "sampling timestep 100\r"
     ]
    }
   ],
   "source": [
    "results = ddpm.sample(10, (3,28,28),device,2)\n",
    "results = results[0]"
   ]
  },
  {
   "cell_type": "code",
   "execution_count": 5,
   "metadata": {},
   "outputs": [
    {
     "name": "stderr",
     "output_type": "stream",
     "text": [
      "Clipping input data to the valid range for imshow with RGB data ([0..1] for floats or [0..255] for integers).\n"
     ]
    },
    {
     "data": {
      "text/plain": [
       "<matplotlib.image.AxesImage at 0x7f34537b7d60>"
      ]
     },
     "execution_count": 5,
     "metadata": {},
     "output_type": "execute_result"
    },
    {
     "data": {
      "image/png": "[encoded data removed]",
      "text/plain": [
       "<Figure size 640x480 with 1 Axes>"
      ]
     },
     "metadata": {},
     "output_type": "display_data"
    }
   ],
   "source": [
    "plt.imshow((-1 * results[0].detach().cpu() + 1).permute(1,2,0))"
   ]
  },
  {
   "cell_type": "code",
   "execution_count": 7,
   "metadata": {},
   "outputs": [],
   "source": [
    "x, y, hues = torch.load(\"./classifiedMNIST/real_data/batch_0.pth\", map_location=device)\n",
    "y_hats, logits = torch.load(\"./classifiedMNIST/predicted_label/batch_0.pth\", map_location=device)"
   ]
  },
  {
   "cell_type": "code",
   "execution_count": 9,
   "metadata": {},
   "outputs": [
    {
     "data": {
      "text/plain": [
       "<All keys matched successfully>"
      ]
     },
     "execution_count": 9,
     "metadata": {},
     "output_type": "execute_result"
    }
   ],
   "source": [
    "# get one sample that is classified wrong and one correct\n",
    "p_unif = 0\n",
    "classifier = Classifier().to(device)\n",
    "classifier.load_state_dict(torch.load(f\"./trained_classifiers/model{p_unif}_10.pt\", map_location=device))"
   ]
  },
  {
   "cell_type": "code",
   "execution_count": 30,
   "metadata": {},
   "outputs": [],
   "source": [
    "x_sample_wrong = x[0]\n",
    "y_true_sample_wrong = y[0].view(-1,)\n",
    "y_sample_wrong = y_hats[f'{p_unif}'][0]\n",
    "x_sample_correct = x[1]\n",
    "y_true_sample_correct = y[1].view(-1,)\n",
    "y_sample_correct = y_hats[f'{p_unif}'][1]"
   ]
  },
  {
   "cell_type": "code",
   "execution_count": 46,
   "metadata": {},
   "outputs": [
    {
     "data": {
      "text/plain": [
       "<matplotlib.image.AxesImage at 0x7f3402e18730>"
      ]
     },
     "execution_count": 46,
     "metadata": {},
     "output_type": "execute_result"
    },
    {
     "data": {
      "image/png": "[encoded data removed]",
      "text/plain": [
       "<Figure size 640x480 with 1 Axes>"
      ]
     },
     "metadata": {},
     "output_type": "display_data"
    }
   ],
   "source": [
    "plt.imshow((-1*x_sample_wrong.permute(1,2,0)+1).detach().cpu())"
   ]
  },
  {
   "cell_type": "code",
   "execution_count": 86,
   "metadata": {},
   "outputs": [
    {
     "name": "stdout",
     "output_type": "stream",
     "text": [
      "\n",
      "reconstructing timestep 180\r"
     ]
    },
    {
     "name": "stderr",
     "output_type": "stream",
     "text": [
      "Clipping input data to the valid range for imshow with RGB data ([0..1] for floats or [0..255] for integers).\n"
     ]
    },
    {
     "name": "stdout",
     "output_type": "stream",
     "text": [
      "reconstructing timestep 10\r"
     ]
    },
    {
     "data": {
      "text/plain": [
       "<matplotlib.image.AxesImage at 0x7f33d84a7160>"
      ]
     },
     "execution_count": 86,
     "metadata": {},
     "output_type": "execute_result"
    },
    {
     "data": {
      "image/png": "[encoded data removed]",
      "text/plain": [
       "<Figure size 640x480 with 1 Axes>"
      ]
     },
     "metadata": {},
     "output_type": "display_data"
    }
   ],
   "source": [
    "# hue uncond cf from 8 to 5 (y_true is 5)\n",
    "true_hues = hues[0]\n",
    "# true_hues = torch.tensor([true_hues]).to(device)\n",
    "u = ddpm.abduct(x_sample_wrong.view(1,3,28,28), \\\n",
    "                y_sample_wrong,\\\n",
    "                size=(3,28,28), device=device, guide_w=2, hues=true_hues, hue_uncond=1)\n",
    "x_cf_wrong_uncond = ddpm.reconstruct(u, y_true_sample_wrong.view(-1,), size=(3,28,28), device=device, guide_w=2, hues=true_hues, hue_uncond=1)\n",
    "plt.imshow((-1*x_cf_wrong_uncond[0]+1).permute(1,2,0).detach().cpu())"
   ]
  },
  {
   "cell_type": "code",
   "execution_count": 63,
   "metadata": {},
   "outputs": [
    {
     "name": "stdout",
     "output_type": "stream",
     "text": [
      "\n",
      "reconstructing timestep 600\r"
     ]
    },
    {
     "name": "stderr",
     "output_type": "stream",
     "text": [
      "Clipping input data to the valid range for imshow with RGB data ([0..1] for floats or [0..255] for integers).\n"
     ]
    },
    {
     "name": "stdout",
     "output_type": "stream",
     "text": [
      "reconstructing timestep 1\r"
     ]
    },
    {
     "data": {
      "text/plain": [
       "<matplotlib.image.AxesImage at 0x7f34022b7640>"
      ]
     },
     "execution_count": 63,
     "metadata": {},
     "output_type": "execute_result"
    },
    {
     "data": {
      "image/png": "[encoded data removed]",
      "text/plain": [
       "<Figure size 640x480 with 1 Axes>"
      ]
     },
     "metadata": {},
     "output_type": "display_data"
    }
   ],
   "source": [
    "# hue cond cf from 5 to 8 (y_true is 8)\n",
    "true_hues = hues[0]\n",
    "# true_hues = torch.tensor([true_hues]).to(device)\n",
    "u = ddpm.abduct(x_sample_wrong.view(1,3,28,28), \\\n",
    "                y_sample_wrong,\\\n",
    "                size=(3,28,28), device=device, guide_w=2, hues=true_hues, hue_uncond=0)\n",
    "x_cf_wrong_cond = ddpm.reconstruct(u, y_true_sample_wrong.view(-1,), size=(3,28,28), device=device, guide_w=2, hues=true_hues, hue_uncond=0)\n",
    "plt.imshow((-1*x_cf_wrong_cond[0]+1).permute(1,2,0).detach().cpu())"
   ]
  },
  {
   "cell_type": "code",
   "execution_count": 68,
   "metadata": {},
   "outputs": [
    {
     "name": "stdout",
     "output_type": "stream",
     "text": [
      "tensor([[0.0115, 0.0120, 0.0086, 0.5079, 0.0047, 0.3734, 0.0170, 0.0182, 0.0367,\n",
      "         0.0100]], device='cuda:0', grad_fn=<ExpBackward0>)\n",
      "tensor([3], device='cuda:0')\n",
      "tensor([0.0364, 0.0071, 0.0071, 0.0940, 0.0105, 0.1984, 0.0375, 0.0785, 0.3190,\n",
      "        0.2115], device='cuda:0', grad_fn=<ExpBackward0>)\n"
     ]
    }
   ],
   "source": [
    "y_cf_uncond = classifier(x_cf_wrong_uncond)\n",
    "print(torch.exp(y_cf_uncond))\n",
    "print(torch.argmax(y_cf_uncond,dim=1))\n",
    "print(torch.exp(logits[f'{p_unif}'][0]))"
   ]
  },
  {
   "cell_type": "code",
   "execution_count": 71,
   "metadata": {},
   "outputs": [
    {
     "name": "stdout",
     "output_type": "stream",
     "text": [
      "tensor([[0.0322, 0.0111, 0.0103, 0.1533, 0.0185, 0.3477, 0.0336, 0.0988, 0.1493,\n",
      "         0.1453]], device='cuda:0', grad_fn=<ExpBackward0>)\n",
      "tensor([5], device='cuda:0')\n"
     ]
    }
   ],
   "source": [
    "y_cf_cond = classifier(x_cf_wrong_cond)\n",
    "print(torch.exp(y_cf_cond))\n",
    "print(torch.argmax(y_cf_cond,dim=1))\n"
   ]
  },
  {
   "cell_type": "code",
   "execution_count": 84,
   "metadata": {},
   "outputs": [
    {
     "name": "stdout",
     "output_type": "stream",
     "text": [
      "reconstructing timestep 150\r"
     ]
    },
    {
     "name": "stderr",
     "output_type": "stream",
     "text": [
      "Clipping input data to the valid range for imshow with RGB data ([0..1] for floats or [0..255] for integers).\n"
     ]
    },
    {
     "name": "stdout",
     "output_type": "stream",
     "text": [
      "reconstructing timestep 10\r"
     ]
    },
    {
     "data": {
      "text/plain": [
       "<matplotlib.image.AxesImage at 0x7f33d84688b0>"
      ]
     },
     "execution_count": 84,
     "metadata": {},
     "output_type": "execute_result"
    },
    {
     "data": {
      "image/png": "[encoded data removed]",
      "text/plain": [
       "<Figure size 640x480 with 1 Axes>"
      ]
     },
     "metadata": {},
     "output_type": "display_data"
    }
   ],
   "source": [
    "# now from 8 to 0 (groundtruth 5)\n",
    "x_cf_wrong_cond_to0 = ddpm.reconstruct(u, torch.tensor([2],device=device).view(-1,), size=(3,28,28), device=device, guide_w=2, hues=true_hues, hue_uncond=0)\n",
    "plt.imshow((-1*x_cf_wrong_cond_to0[0]+1).permute(1,2,0).detach().cpu())"
   ]
  },
  {
   "cell_type": "code",
   "execution_count": 85,
   "metadata": {},
   "outputs": [
    {
     "name": "stdout",
     "output_type": "stream",
     "text": [
      "tensor([[0.0513, 0.0195, 0.0223, 0.1215, 0.0289, 0.1063, 0.0448, 0.2607, 0.2056,\n",
      "         0.1391]], device='cuda:0', grad_fn=<ExpBackward0>)\n",
      "tensor([7], device='cuda:0')\n"
     ]
    }
   ],
   "source": [
    "y_cf_cond_to0 = classifier(x_cf_wrong_cond_to0)\n",
    "print(torch.exp(y_cf_cond_to0))\n",
    "print(torch.argmax(y_cf_cond_to0,dim=1))"
   ]
  },
  {
   "cell_type": "code",
   "execution_count": 91,
   "metadata": {},
   "outputs": [
    {
     "name": "stdout",
     "output_type": "stream",
     "text": [
      "reconstructing timestep 150\r"
     ]
    },
    {
     "name": "stderr",
     "output_type": "stream",
     "text": [
      "Clipping input data to the valid range for imshow with RGB data ([0..1] for floats or [0..255] for integers).\n"
     ]
    },
    {
     "name": "stdout",
     "output_type": "stream",
     "text": [
      "reconstructing timestep 10\r"
     ]
    },
    {
     "data": {
      "text/plain": [
       "<matplotlib.image.AxesImage at 0x7f33d82604c0>"
      ]
     },
     "execution_count": 91,
     "metadata": {},
     "output_type": "execute_result"
    },
    {
     "data": {
      "image/png": "[encoded data removed]",
      "text/plain": [
       "<Figure size 640x480 with 1 Axes>"
      ]
     },
     "metadata": {},
     "output_type": "display_data"
    }
   ],
   "source": [
    "# now from 8 to 0 (groundtruth 5); uncond\n",
    "x_cf_wrong_uncond_to0 = ddpm.reconstruct(u, torch.tensor([0],device=device).view(-1,), size=(3,28,28), device=device, guide_w=2, hues=true_hues, hue_uncond=1)\n",
    "plt.imshow((-1*x_cf_wrong_uncond_to0[0]+1).permute(1,2,0).detach().cpu())"
   ]
  },
  {
   "cell_type": "code",
   "execution_count": 92,
   "metadata": {},
   "outputs": [
    {
     "name": "stdout",
     "output_type": "stream",
     "text": [
      "tensor([[0.4824, 0.0069, 0.4301, 0.0076, 0.0029, 0.0018, 0.0032, 0.0060, 0.0038,\n",
      "         0.0554]], device='cuda:0', grad_fn=<ExpBackward0>)\n",
      "tensor([0], device='cuda:0')\n"
     ]
    }
   ],
   "source": [
    "y_cf_uncond_to0 = classifier(x_cf_wrong_uncond_to0)\n",
    "print(torch.exp(y_cf_uncond_to0))\n",
    "print(torch.argmax(y_cf_uncond_to0,dim=1))"
   ]
  },
  {
   "cell_type": "code",
   "execution_count": 24,
   "metadata": {},
   "outputs": [
    {
     "data": {
      "text/plain": [
       "<matplotlib.image.AxesImage at 0x7f3403173430>"
      ]
     },
     "execution_count": 24,
     "metadata": {},
     "output_type": "execute_result"
    },
    {
     "data": {
      "image/png": "[encoded data removed]",
      "text/plain": [
       "<Figure size 640x480 with 1 Axes>"
      ]
     },
     "metadata": {},
     "output_type": "display_data"
    }
   ],
   "source": [
    "plt.imshow((-1*x_sample_correct+1).permute(1,2,0).detach().cpu())"
   ]
  },
  {
   "cell_type": "code",
   "execution_count": 18,
   "metadata": {},
   "outputs": [
    {
     "data": {
      "text/plain": [
       "tensor([False,  True,  True,  True, False,  True,  True, False, False, False,\n",
       "        False, False,  True, False,  True,  True, False,  True,  True, False,\n",
       "         True,  True,  True,  True, False,  True, False,  True,  True, False,\n",
       "         True,  True,  True,  True,  True,  True,  True,  True, False, False,\n",
       "         True,  True, False,  True, False, False,  True, False,  True, False,\n",
       "         True,  True,  True,  True,  True,  True,  True, False,  True, False,\n",
       "         True,  True,  True, False,  True,  True, False, False, False, False,\n",
       "        False,  True, False, False, False,  True,  True, False, False, False,\n",
       "        False,  True, False,  True,  True,  True, False,  True,  True, False,\n",
       "         True, False,  True,  True, False,  True, False, False,  True, False,\n",
       "        False, False,  True, False, False,  True, False, False, False, False,\n",
       "         True, False,  True,  True, False,  True,  True,  True,  True, False,\n",
       "         True,  True,  True, False,  True,  True,  True, False,  True, False,\n",
       "         True, False, False, False, False, False, False,  True, False, False,\n",
       "         True, False, False,  True,  True, False, False, False, False, False,\n",
       "        False, False,  True,  True,  True, False,  True,  True,  True, False,\n",
       "         True,  True, False,  True,  True,  True,  True,  True, False,  True,\n",
       "         True,  True,  True, False,  True, False, False, False,  True, False,\n",
       "        False,  True,  True, False, False, False,  True,  True,  True,  True,\n",
       "         True,  True,  True, False,  True, False,  True,  True,  True,  True,\n",
       "        False,  True, False,  True, False,  True,  True,  True,  True, False,\n",
       "         True,  True, False,  True,  True, False, False,  True, False,  True,\n",
       "        False, False,  True, False, False,  True,  True,  True, False,  True,\n",
       "        False, False,  True,  True,  True, False, False, False, False,  True,\n",
       "        False, False,  True,  True,  True, False, False,  True,  True, False,\n",
       "         True, False,  True,  True,  True,  True], device='cuda:0')"
      ]
     },
     "execution_count": 18,
     "metadata": {},
     "output_type": "execute_result"
    }
   ],
   "source": [
    "y==y_hats['0']"
   ]
  },
  {
   "cell_type": "code",
   "execution_count": 77,
   "metadata": {},
   "outputs": [
    {
     "name": "stdout",
     "output_type": "stream",
     "text": [
      "\n",
      "abducting timestep 399\r"
     ]
    }
   ],
   "source": [
    "true_hues = 0.0\n",
    "true_hues = torch.tensor([true_hues+0.05]).to(device)\n",
    "u = ddpm.abduct(results[0], \\\n",
    "                torch.tensor([0], dtype=torch.int64).to(device),\\\n",
    "                size=(3,28,28), device=device, guide_w=2, hues=true_hues, hue_uncond=1)"
   ]
  },
  {
   "cell_type": "code",
   "execution_count": 6,
   "metadata": {},
   "outputs": [
    {
     "data": {
      "text/plain": [
       "(array([  1.,   0.,   0.,   0.,   0.,   0.,   0.,   0.,   0.,   0.,   0.,\n",
       "          1.,   0.,   1.,   0.,   0.,   0.,   3.,   3.,   2.,   3.,   1.,\n",
       "          6.,   2.,   7.,   8.,  10.,   6.,  11.,  10.,  24.,  16.,  19.,\n",
       "         18.,  20.,  25.,  31.,  34.,  35.,  45.,  33.,  39.,  45.,  48.,\n",
       "         54.,  69.,  57.,  79.,  66.,  68.,  67., 107.,  78.,  74.,  66.,\n",
       "         68.,  53.,  57.,  84.,  76.,  59.,  67.,  68.,  65.,  52.,  58.,\n",
       "         46.,  40.,  30.,  20.,  21.,  27.,  23.,  24.,  25.,  19.,  13.,\n",
       "         11.,   4.,   6.,   8.,  11.,   5.,   5.,   5.,   1.,   2.,   0.,\n",
       "          2.,   0.,   2.,   2.,   0.,   0.,   0.,   0.,   0.,   0.,   0.,\n",
       "          1.]),\n",
       " array([-4.18710041, -4.10854959, -4.0299983 , -3.95144749, -3.87289643,\n",
       "        -3.79434538, -3.71579432, -3.63724327, -3.55869222, -3.4801414 ,\n",
       "        -3.40159035, -3.32303929, -3.24448824, -3.16593719, -3.08738637,\n",
       "        -3.00883532, -2.93028426, -2.85173321, -2.77318215, -2.6946311 ,\n",
       "        -2.61608028, -2.53752923, -2.45897818, -2.38042712, -2.30187607,\n",
       "        -2.22332525, -2.1447742 , -2.06622314, -1.98767209, -1.90912104,\n",
       "        -1.8305701 , -1.75201905, -1.67346811, -1.59491706, -1.516366  ,\n",
       "        -1.43781507, -1.35926402, -1.28071296, -1.20216203, -1.12361097,\n",
       "        -1.04505992, -0.96650898, -0.88795793, -0.80940694, -0.73085594,\n",
       "        -0.65230489, -0.57375389, -0.4952029 , -0.41665187, -0.33810088,\n",
       "        -0.25954986, -0.18099885, -0.10244784, -0.02389682,  0.05465419,\n",
       "         0.13320521,  0.21175621,  0.29030722,  0.36885822,  0.44740924,\n",
       "         0.52596027,  0.60451126,  0.68306226,  0.76161331,  0.8401643 ,\n",
       "         0.9187153 ,  0.99726629,  1.07581735,  1.1543684 ,  1.23291934,\n",
       "         1.31147039,  1.39002132,  1.46857238,  1.54712343,  1.62567437,\n",
       "         1.70422542,  1.78277647,  1.86132741,  1.93987846,  2.01842952,\n",
       "         2.09698057,  2.17553139,  2.25408244,  2.3326335 ,  2.41118455,\n",
       "         2.4897356 ,  2.56828666,  2.64683747,  2.72538853,  2.80393958,\n",
       "         2.88249063,  2.96104169,  3.0395925 ,  3.11814356,  3.19669461,\n",
       "         3.27524567,  3.35379672,  3.43234777,  3.51089859,  3.58944964,\n",
       "         3.6680007 ]),\n",
       " <BarContainer object of 100 artists>)"
      ]
     },
     "execution_count": 6,
     "metadata": {},
     "output_type": "execute_result"
    },
    {
     "data": {
      "image/png": "[encoded data removed]",
      "text/plain": [
       "<Figure size 640x480 with 1 Axes>"
      ]
     },
     "metadata": {},
     "output_type": "display_data"
    }
   ],
   "source": [
    "# plot histogram of u[0] pixel values\n",
    "plt.hist(u[0].detach().cpu().numpy().flatten(), bins=100)"
   ]
  },
  {
   "cell_type": "code",
   "execution_count": 6,
   "metadata": {},
   "outputs": [
    {
     "name": "stderr",
     "output_type": "stream",
     "text": [
      "Clipping input data to the valid range for imshow with RGB data ([0..1] for floats or [0..255] for integers).\n"
     ]
    },
    {
     "data": {
      "text/plain": [
       "<matplotlib.image.AxesImage at 0x7f337cf11d00>"
      ]
     },
     "execution_count": 6,
     "metadata": {},
     "output_type": "execute_result"
    },
    {
     "data": {
      "image/png": "[encoded data removed]",
      "text/plain": [
       "<Figure size 640x480 with 1 Axes>"
      ]
     },
     "metadata": {},
     "output_type": "display_data"
    }
   ],
   "source": [
    "plt.imshow(u[0].permute(1,2,0).detach().cpu().numpy())"
   ]
  },
  {
   "cell_type": "code",
   "execution_count": 7,
   "metadata": {},
   "outputs": [],
   "source": [
    "u_random = torch.randn_like(u)"
   ]
  },
  {
   "cell_type": "code",
   "execution_count": 80,
   "metadata": {},
   "outputs": [
    {
     "name": "stdout",
     "output_type": "stream",
     "text": [
      "reconstructing timestep 370\r"
     ]
    },
    {
     "name": "stderr",
     "output_type": "stream",
     "text": [
      "Clipping input data to the valid range for imshow with RGB data ([0..1] for floats or [0..255] for integers).\n"
     ]
    },
    {
     "name": "stdout",
     "output_type": "stream",
     "text": [
      "reconstructing timestep 10\r"
     ]
    },
    {
     "data": {
      "text/plain": [
       "<matplotlib.image.AxesImage at 0x7f4e20f6cca0>"
      ]
     },
     "execution_count": 80,
     "metadata": {},
     "output_type": "execute_result"
    },
    {
     "data": {
      "image/png": "[encoded data removed]",
      "text/plain": [
       "<Figure size 640x480 with 1 Axes>"
      ]
     },
     "metadata": {},
     "output_type": "display_data"
    }
   ],
   "source": [
    "x_cf = ddpm.reconstruct(u, \\\n",
    "                        torch.tensor([8], dtype=torch.int64, device=device),\\\n",
    "                        size=(3,28,28), device=device, guide_w=2, \\\n",
    "                        hues=torch.tensor([0.05],device=device), hue_uncond=0)\n",
    "plt.imshow((-1*x_cf[0]+1).permute(1,2,0).detach().cpu().numpy())"
   ]
  },
  {
   "cell_type": "code",
   "execution_count": 58,
   "metadata": {},
   "outputs": [
    {
     "data": {
      "text/plain": [
       "Classifier(\n",
       "  (conv11): Conv2d(3, 16, kernel_size=(3, 3), stride=(1, 1))\n",
       "  (conv12): Conv2d(3, 16, kernel_size=(5, 5), stride=(1, 1))\n",
       "  (conv13): Conv2d(3, 16, kernel_size=(7, 7), stride=(1, 1))\n",
       "  (conv14): Conv2d(3, 16, kernel_size=(9, 9), stride=(1, 1))\n",
       "  (conv21): Conv2d(16, 32, kernel_size=(3, 3), stride=(1, 1))\n",
       "  (conv22): Conv2d(16, 32, kernel_size=(5, 5), stride=(1, 1))\n",
       "  (conv23): Conv2d(16, 32, kernel_size=(7, 7), stride=(1, 1))\n",
       "  (conv24): Conv2d(16, 32, kernel_size=(9, 9), stride=(1, 1))\n",
       "  (conv31): Conv2d(32, 64, kernel_size=(3, 3), stride=(1, 1))\n",
       "  (conv32): Conv2d(32, 64, kernel_size=(5, 5), stride=(1, 1))\n",
       "  (conv33): Conv2d(32, 64, kernel_size=(7, 7), stride=(1, 1))\n",
       "  (conv34): Conv2d(32, 64, kernel_size=(9, 9), stride=(1, 1))\n",
       "  (maxpool): MaxPool2d(kernel_size=2, stride=2, padding=0, dilation=1, ceil_mode=False)\n",
       "  (dropout1): Dropout(p=0.25, inplace=False)\n",
       "  (dropout2): Dropout(p=0.5, inplace=False)\n",
       "  (fc11): Linear(in_features=7744, out_features=256, bias=True)\n",
       "  (fc12): Linear(in_features=4096, out_features=256, bias=True)\n",
       "  (fc13): Linear(in_features=1600, out_features=256, bias=True)\n",
       "  (fc14): Linear(in_features=256, out_features=256, bias=True)\n",
       "  (fc21): Linear(in_features=256, out_features=128, bias=True)\n",
       "  (fc22): Linear(in_features=256, out_features=128, bias=True)\n",
       "  (fc23): Linear(in_features=256, out_features=128, bias=True)\n",
       "  (fc24): Linear(in_features=256, out_features=128, bias=True)\n",
       "  (fc33): Linear(in_features=512, out_features=10, bias=True)\n",
       ")"
      ]
     },
     "execution_count": 58,
     "metadata": {},
     "output_type": "execute_result"
    }
   ],
   "source": [
    "from network import Classifier\n",
    "classifier = Classifier().to(device)\n",
    "classifier.load_state_dict(torch.load('trained_classifiers/model0.05_10.pt', map_location=device))\n",
    "classifier.eval()"
   ]
  },
  {
   "cell_type": "code",
   "execution_count": 63,
   "metadata": {},
   "outputs": [
    {
     "name": "stdout",
     "output_type": "stream",
     "text": [
      "tensor([[-4.2543, -3.9515, -3.6870, -3.7627, -4.7838, -4.4832, -4.1890, -4.0020,\n",
      "         -0.1733, -3.7157]], device='cuda:0', grad_fn=<LogSoftmaxBackward0>)\n",
      "tensor([8], device='cuda:0')\n"
     ]
    }
   ],
   "source": [
    "logit_cf = classifier(x_cf)\n",
    "y_cf = torch.argmax(logit_cf, dim=1)\n",
    "print(logit_cf)\n",
    "print(y_cf)"
   ]
  },
  {
   "cell_type": "code",
   "execution_count": 17,
   "metadata": {},
   "outputs": [],
   "source": [
    "tmpdata=torch.load('./classifiedMNIST/model0.01_10/batch_0.pth')"
   ]
  },
  {
   "cell_type": "code",
   "execution_count": 20,
   "metadata": {},
   "outputs": [
    {
     "name": "stdout",
     "output_type": "stream",
     "text": [
      "torch.Size([128, 3, 28, 28])\n",
      "torch.Size([128])\n",
      "torch.Size([128])\n",
      "torch.Size([128, 10])\n",
      "torch.Size([128])\n"
     ]
    }
   ],
   "source": [
    "for i in tmpdata:\n",
    "    print(i.shape)"
   ]
  },
  {
   "cell_type": "code",
   "execution_count": null,
   "metadata": {},
   "outputs": [],
   "source": [
    "n_T = 400 # 500\n",
    "device = \"cuda:7\" if torch.cuda.is_available() else \"cpu\"\n",
    "batch_size = 1\n",
    "n_classes = 10\n",
    "n_feat = 256 # 128 ok, 256 better (but slower)\n",
    "save_model = False\n",
    "# save_dir = './data/diffusion_outputs10/'\n",
    "ws_test = [0.0, 0.5, 2.0] # strength of generative guidance\n",
    "\n",
    "ddpm_base = DDPM(nn_model=ContextUnet(in_channels=3, n_feat=n_feat, n_classes=n_classes), betas=(1e-4, 0.02), n_T=n_T, device=device, drop_prob=0.1)\n",
    "ddpm_base.to(device)\n",
    "\n",
    "# optionally load a model\n",
    "ddpm_base.load_state_dict(torch.load(\"./experiments/240503_3/model/model_10.pth\", map_location=device))\n",
    "\n",
    "ddpm_base.eval()"
   ]
  },
  {
   "cell_type": "code",
   "execution_count": null,
   "metadata": {},
   "outputs": [],
   "source": [
    "results = ddpm.sample(10, (3,28,28),device,1)\n",
    "results = results[0]\n",
    "plt.imshow((-1 * results[1].detach().cpu() + 1).permute(1,2,0))"
   ]
  },
  {
   "cell_type": "code",
   "execution_count": null,
   "metadata": {},
   "outputs": [],
   "source": [
    "\n",
    "u_base = ddpm_base.abduct(results[1], torch.tensor([1], dtype=torch.int64).to(device), size=(3,28,28), device=device, guide_w=1)"
   ]
  },
  {
   "cell_type": "code",
   "execution_count": null,
   "metadata": {},
   "outputs": [],
   "source": [
    "x_cf_base = ddpm_base.reconstruct(u, \\\n",
    "                        torch.tensor([5], dtype=torch.int64, device=device),\\\n",
    "                        size=(3,28,28), device=device, guide_w=1)\n",
    "plt.imshow((-1*x_cf_base[0]+1).permute(1,2,0).detach().cpu().numpy())"
   ]
  },
  {
   "cell_type": "code",
   "execution_count": null,
   "metadata": {},
   "outputs": [],
   "source": [
    "# use plt.imshow to show one sample\n",
    "image = results[0][0].clone().cpu().detach().numpy()\n",
    "image.shape"
   ]
  },
  {
   "cell_type": "code",
   "execution_count": null,
   "metadata": {},
   "outputs": [],
   "source": [
    "# image.shape is (1,28,28) grey scale. How to imshow it?\n",
    "plt.imshow(image[0], cmap='gray')"
   ]
  }
 ],
 "metadata": {
  "kernelspec": {
   "display_name": "diff",
   "language": "python",
   "name": "python3"
  },
  "language_info": {
   "codemirror_mode": {
    "name": "ipython",
    "version": 3
   },
   "file_extension": ".py",
   "mimetype": "text/x-python",
   "name": "python",
   "nbconvert_exporter": "python",
   "pygments_lexer": "ipython3",
   "version": "3.10.12"
  }
 },
 "nbformat": 4,
 "nbformat_minor": 2
}
