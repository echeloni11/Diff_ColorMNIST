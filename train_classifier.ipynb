{
 "cells": [
  {
   "cell_type": "code",
   "execution_count": 1,
   "metadata": {},
   "outputs": [],
   "source": [
    "import numpy as np\n",
    "import torch\n",
    "import torch.nn as nn\n",
    "import torch.optim as optim\n",
    "import torch.utils.data as Data\n",
    "from torchvision import datasets, transforms\n",
    "import torch.nn.functional as F\n",
    "import timeit\n",
    "import unittest\n",
    "\n",
    "from network import Classifier\n",
    "from dataset import add_hue_confounded, classifiedMNIST\n",
    "\n",
    "torch.manual_seed(0)\n",
    "torch.backends.cudnn.deterministic = True\n",
    "torch.backends.cudnn.benchmark = False\n",
    "np.random.seed(0)"
   ]
  },
  {
   "cell_type": "code",
   "execution_count": 2,
   "metadata": {},
   "outputs": [],
   "source": [
    "# Load the MNIST training, test datasets using `torchvision.datasets.MNIST` \n",
    "# using the transform defined above\n",
    "\n",
    "transform = transforms.Compose([transforms.ToTensor()])\n",
    "\n",
    "train_dataset = datasets.MNIST('./data',train=True, transform=transform, download=True)\n",
    "test_dataset =  datasets.MNIST('./data',train=False, transform=transform, download=True)"
   ]
  },
  {
   "cell_type": "code",
   "execution_count": 3,
   "metadata": {},
   "outputs": [],
   "source": [
    "train_dataloader = Data.DataLoader(dataset=train_dataset, batch_size=128, shuffle=True)\n",
    "test_dataloader = Data.DataLoader(dataset=test_dataset, batch_size=128, shuffle=True)"
   ]
  },
  {
   "cell_type": "code",
   "execution_count": 11,
   "metadata": {},
   "outputs": [],
   "source": [
    "accuracy = []\n",
    "avg_loss = []\n",
    "def test(model, device, test_loader, p_unif):\n",
    "    model.eval()\n",
    "    test_loss = 0\n",
    "    correct = 0\n",
    "    correct_more = 0\n",
    "    with torch.no_grad():\n",
    "        for data, target in test_loader:\n",
    "          \n",
    "            # send the image, target to the device\n",
    "            data, target = data.to(device), target.to(device)\n",
    "            data, hues = add_hue_confounded(data, target, p_unif=p_unif)\n",
    "            # pass the image to the model and assign the output to variable named output\n",
    "            output = model(data)\n",
    "            test_loss += F.nll_loss(output, target, reduction='sum').item() # sum up batch loss\n",
    "          \n",
    "            pred = output.argmax(dim=1, keepdim=True)  # get the index of the max log-probability\n",
    "            correct += pred.eq(target.view_as(pred)).sum().item()\n",
    "            correct_more += pred.eq(target.view_as(pred)).sum().item()\n",
    "\n",
    "            # 四舍五入\n",
    "            hues_label = torch.round(hues * 10 + 0.5) - 1\n",
    "            correct_more += pred.eq(hues_label.view_as(pred)).sum().item()\n",
    "\n",
    "    test_loss /= len(test_loader.dataset)\n",
    "\n",
    "    print('\\nTest set: Average loss: {:.4f}, Accuracy: {}/{} ({:.0f}%) {:.0f}\\n'.format(\n",
    "        test_loss, correct, len(test_loader.dataset),\n",
    "        100. * correct / len(test_loader.dataset), 100.*correct_more/len(test_loader.dataset)))\n"
   ]
  },
  {
   "cell_type": "code",
   "execution_count": 9,
   "metadata": {},
   "outputs": [
    {
     "data": {
      "text/plain": [
       "<All keys matched successfully>"
      ]
     },
     "execution_count": 9,
     "metadata": {},
     "output_type": "execute_result"
    }
   ],
   "source": [
    "device = torch.device(\"cuda\" if torch.cuda.is_available() else \"cpu\")\n",
    "model = Classifier().to(device)\n",
    "\n",
    "classifier_name = 'model0.01_10'\n",
    "state_dict = torch.load(f'./trained_classifiers/{classifier_name}.pt', map_location=device)\n",
    "model.load_state_dict(state_dict)\n",
    "\n"
   ]
  },
  {
   "cell_type": "code",
   "execution_count": 12,
   "metadata": {},
   "outputs": [
    {
     "name": "stdout",
     "output_type": "stream",
     "text": [
      "\n",
      "Test set: Average loss: 0.6781, Accuracy: 50597/60000 (84%) 98\n",
      "\n"
     ]
    }
   ],
   "source": [
    "test(model, device, train_dataloader, 1)"
   ]
  },
  {
   "cell_type": "code",
   "execution_count": 61,
   "metadata": {},
   "outputs": [
    {
     "name": "stdout",
     "output_type": "stream",
     "text": [
      "tensor([9], device='cuda:0')\n",
      "tensor([0.7142], device='cuda:0')\n"
     ]
    },
    {
     "data": {
      "text/plain": [
       "<matplotlib.image.AxesImage at 0x7fa446fb7950>"
      ]
     },
     "execution_count": 61,
     "metadata": {},
     "output_type": "execute_result"
    },
    {
     "data": {
      "image/png": "[encoded data removed]",
      "text/plain": [
       "<Figure size 640x480 with 1 Axes>"
      ]
     },
     "metadata": {},
     "output_type": "display_data"
    }
   ],
   "source": [
    "import matplotlib.pyplot as plt\n",
    "small_dataloader = Data.DataLoader(dataset=train_dataset, batch_size=1, shuffle=True)\n",
    "\n",
    "for x, y in small_dataloader:\n",
    "    x, y = x.to(device), y.to(device)\n",
    "    x, hues = add_hue_confounded(x, y, p_unif=1)\n",
    "    print(y)\n",
    "    print(hues)\n",
    "    break\n",
    "\n",
    "plt.imshow((-1*x[0]+1).permute(1, 2, 0).cpu().numpy())"
   ]
  },
  {
   "cell_type": "code",
   "execution_count": 62,
   "metadata": {},
   "outputs": [
    {
     "name": "stdout",
     "output_type": "stream",
     "text": [
      "tensor([[0.0485, 0.0472, 0.0273, 0.1574, 0.0773, 0.0711, 0.0383, 0.1535, 0.0899,\n",
      "         0.2893]], device='cuda:0', grad_fn=<ExpBackward0>)\n"
     ]
    }
   ],
   "source": [
    "logits = model(x)\n",
    "print(torch.exp(logits))"
   ]
  },
  {
   "cell_type": "code",
   "execution_count": 10,
   "metadata": {},
   "outputs": [],
   "source": [
    "# Construct a classified dataset (x, y, y_hat, logits, hue)\n",
    "classified_dataset = []\n",
    "import os\n",
    "import tqdm\n",
    "os.makedirs(f'./classifiedMNIST/{classifier_name}', exist_ok=True)\n",
    "for i, (x, y) in enumerate(train_dataloader):\n",
    "    x, y = x.to(device), y.to(device)\n",
    "    x, hues = add_hue_confounded(x, y, p_unif=1)\n",
    "    logits = model(x)\n",
    "    y_hat = torch.argmax(logits, dim=1)\n",
    "    torch.save((x, y, y_hat, logits, hues), f'./classifiedMNIST/{classifier_name}/batch_{i}.pth')\n",
    "\n"
   ]
  }
 ],
 "metadata": {
  "kernelspec": {
   "display_name": "diff",
   "language": "python",
   "name": "python3"
  },
  "language_info": {
   "codemirror_mode": {
    "name": "ipython",
    "version": 3
   },
   "file_extension": ".py",
   "mimetype": "text/x-python",
   "name": "python",
   "nbconvert_exporter": "python",
   "pygments_lexer": "ipython3",
   "version": "3.10.12"
  }
 },
 "nbformat": 4,
 "nbformat_minor": 2
}
